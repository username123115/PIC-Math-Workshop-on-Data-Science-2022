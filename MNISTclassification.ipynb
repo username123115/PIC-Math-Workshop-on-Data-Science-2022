{
  "nbformat": 4,
  "nbformat_minor": 0,
  "metadata": {
    "colab": {
      "name": "MNISTclassification.ipynb",
      "provenance": [],
      "authorship_tag": "ABX9TyOkuix6FfVK0QbVgZhDJYTZ",
      "include_colab_link": true
    },
    "kernelspec": {
      "name": "python3",
      "display_name": "Python 3"
    },
    "language_info": {
      "name": "python"
    }
  },
  "cells": [
    {
      "cell_type": "markdown",
      "metadata": {
        "id": "view-in-github",
        "colab_type": "text"
      },
      "source": [
        "<a href=\"https://colab.research.google.com/github/username123115/PIC-Math-Workshop-on-Data-Science-2022/blob/main/MNISTclassification.ipynb\" target=\"_parent\"><img src=\"https://colab.research.google.com/assets/colab-badge.svg\" alt=\"Open In Colab\"/></a>"
      ]
    },
    {
      "cell_type": "code",
      "execution_count": null,
      "metadata": {
        "id": "Haj7B16_wY84"
      },
      "outputs": [],
      "source": [
        ""
      ]
    }
  ]
}